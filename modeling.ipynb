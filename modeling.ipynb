{
 "cells": [
  {
   "cell_type": "markdown",
   "metadata": {},
   "source": [
    "## Import the independencies\n",
    "#### นำ library ที่เกี่ยวข้องกับผลงานเข้ามา"
   ]
  },
  {
   "cell_type": "code",
   "execution_count": null,
   "metadata": {},
   "outputs": [],
   "source": [
    "import numpy as np\n",
    "import pandas as pd\n",
    "import matplotlib.pyplot as plt\n",
    "import hvplot.pandas\n",
    "import seaborn as sns\n",
    "from sklearn.model_selection import train_test_split\n",
    "from sklearn.linear_model import LogisticRegression"
   ]
  },
  {
   "cell_type": "markdown",
   "metadata": {},
   "source": [
    "# **Import dataset**\n",
    "- importing dataset from kaggle\n",
    "\n",
    "> source https://www.kaggle.com/ronitf/heart-disease-uci"
   ]
  },
  {
   "cell_type": "code",
   "execution_count": 48,
   "metadata": {},
   "outputs": [
    {
     "data": {
      "text/html": [
       "<div>\n",
       "<style scoped>\n",
       "    .dataframe tbody tr th:only-of-type {\n",
       "        vertical-align: middle;\n",
       "    }\n",
       "\n",
       "    .dataframe tbody tr th {\n",
       "        vertical-align: top;\n",
       "    }\n",
       "\n",
       "    .dataframe thead th {\n",
       "        text-align: right;\n",
       "    }\n",
       "</style>\n",
       "<table border=\"1\" class=\"dataframe\">\n",
       "  <thead>\n",
       "    <tr style=\"text-align: right;\">\n",
       "      <th></th>\n",
       "      <th>age</th>\n",
       "      <th>sex</th>\n",
       "      <th>cp</th>\n",
       "      <th>trestbps</th>\n",
       "      <th>chol</th>\n",
       "      <th>fbs</th>\n",
       "      <th>restecg</th>\n",
       "      <th>thalach</th>\n",
       "      <th>exang</th>\n",
       "      <th>oldpeak</th>\n",
       "      <th>slope</th>\n",
       "      <th>ca</th>\n",
       "      <th>thal</th>\n",
       "      <th>target</th>\n",
       "    </tr>\n",
       "  </thead>\n",
       "  <tbody>\n",
       "    <tr>\n",
       "      <th>0</th>\n",
       "      <td>63</td>\n",
       "      <td>1</td>\n",
       "      <td>3</td>\n",
       "      <td>145</td>\n",
       "      <td>233</td>\n",
       "      <td>1</td>\n",
       "      <td>0</td>\n",
       "      <td>150</td>\n",
       "      <td>0</td>\n",
       "      <td>2.3</td>\n",
       "      <td>0</td>\n",
       "      <td>0</td>\n",
       "      <td>1</td>\n",
       "      <td>1</td>\n",
       "    </tr>\n",
       "    <tr>\n",
       "      <th>1</th>\n",
       "      <td>37</td>\n",
       "      <td>1</td>\n",
       "      <td>2</td>\n",
       "      <td>130</td>\n",
       "      <td>250</td>\n",
       "      <td>0</td>\n",
       "      <td>1</td>\n",
       "      <td>187</td>\n",
       "      <td>0</td>\n",
       "      <td>3.5</td>\n",
       "      <td>0</td>\n",
       "      <td>0</td>\n",
       "      <td>2</td>\n",
       "      <td>1</td>\n",
       "    </tr>\n",
       "    <tr>\n",
       "      <th>2</th>\n",
       "      <td>41</td>\n",
       "      <td>0</td>\n",
       "      <td>1</td>\n",
       "      <td>130</td>\n",
       "      <td>204</td>\n",
       "      <td>0</td>\n",
       "      <td>0</td>\n",
       "      <td>172</td>\n",
       "      <td>0</td>\n",
       "      <td>1.4</td>\n",
       "      <td>2</td>\n",
       "      <td>0</td>\n",
       "      <td>2</td>\n",
       "      <td>1</td>\n",
       "    </tr>\n",
       "    <tr>\n",
       "      <th>3</th>\n",
       "      <td>56</td>\n",
       "      <td>1</td>\n",
       "      <td>1</td>\n",
       "      <td>120</td>\n",
       "      <td>236</td>\n",
       "      <td>0</td>\n",
       "      <td>1</td>\n",
       "      <td>178</td>\n",
       "      <td>0</td>\n",
       "      <td>0.8</td>\n",
       "      <td>2</td>\n",
       "      <td>0</td>\n",
       "      <td>2</td>\n",
       "      <td>1</td>\n",
       "    </tr>\n",
       "    <tr>\n",
       "      <th>4</th>\n",
       "      <td>57</td>\n",
       "      <td>0</td>\n",
       "      <td>0</td>\n",
       "      <td>120</td>\n",
       "      <td>354</td>\n",
       "      <td>0</td>\n",
       "      <td>1</td>\n",
       "      <td>163</td>\n",
       "      <td>1</td>\n",
       "      <td>0.6</td>\n",
       "      <td>2</td>\n",
       "      <td>0</td>\n",
       "      <td>2</td>\n",
       "      <td>1</td>\n",
       "    </tr>\n",
       "    <tr>\n",
       "      <th>...</th>\n",
       "      <td>...</td>\n",
       "      <td>...</td>\n",
       "      <td>...</td>\n",
       "      <td>...</td>\n",
       "      <td>...</td>\n",
       "      <td>...</td>\n",
       "      <td>...</td>\n",
       "      <td>...</td>\n",
       "      <td>...</td>\n",
       "      <td>...</td>\n",
       "      <td>...</td>\n",
       "      <td>...</td>\n",
       "      <td>...</td>\n",
       "      <td>...</td>\n",
       "    </tr>\n",
       "    <tr>\n",
       "      <th>298</th>\n",
       "      <td>57</td>\n",
       "      <td>0</td>\n",
       "      <td>0</td>\n",
       "      <td>140</td>\n",
       "      <td>241</td>\n",
       "      <td>0</td>\n",
       "      <td>1</td>\n",
       "      <td>123</td>\n",
       "      <td>1</td>\n",
       "      <td>0.2</td>\n",
       "      <td>1</td>\n",
       "      <td>0</td>\n",
       "      <td>3</td>\n",
       "      <td>0</td>\n",
       "    </tr>\n",
       "    <tr>\n",
       "      <th>299</th>\n",
       "      <td>45</td>\n",
       "      <td>1</td>\n",
       "      <td>3</td>\n",
       "      <td>110</td>\n",
       "      <td>264</td>\n",
       "      <td>0</td>\n",
       "      <td>1</td>\n",
       "      <td>132</td>\n",
       "      <td>0</td>\n",
       "      <td>1.2</td>\n",
       "      <td>1</td>\n",
       "      <td>0</td>\n",
       "      <td>3</td>\n",
       "      <td>0</td>\n",
       "    </tr>\n",
       "    <tr>\n",
       "      <th>300</th>\n",
       "      <td>68</td>\n",
       "      <td>1</td>\n",
       "      <td>0</td>\n",
       "      <td>144</td>\n",
       "      <td>193</td>\n",
       "      <td>1</td>\n",
       "      <td>1</td>\n",
       "      <td>141</td>\n",
       "      <td>0</td>\n",
       "      <td>3.4</td>\n",
       "      <td>1</td>\n",
       "      <td>2</td>\n",
       "      <td>3</td>\n",
       "      <td>0</td>\n",
       "    </tr>\n",
       "    <tr>\n",
       "      <th>301</th>\n",
       "      <td>57</td>\n",
       "      <td>1</td>\n",
       "      <td>0</td>\n",
       "      <td>130</td>\n",
       "      <td>131</td>\n",
       "      <td>0</td>\n",
       "      <td>1</td>\n",
       "      <td>115</td>\n",
       "      <td>1</td>\n",
       "      <td>1.2</td>\n",
       "      <td>1</td>\n",
       "      <td>1</td>\n",
       "      <td>3</td>\n",
       "      <td>0</td>\n",
       "    </tr>\n",
       "    <tr>\n",
       "      <th>302</th>\n",
       "      <td>57</td>\n",
       "      <td>0</td>\n",
       "      <td>1</td>\n",
       "      <td>130</td>\n",
       "      <td>236</td>\n",
       "      <td>0</td>\n",
       "      <td>0</td>\n",
       "      <td>174</td>\n",
       "      <td>0</td>\n",
       "      <td>0.0</td>\n",
       "      <td>1</td>\n",
       "      <td>1</td>\n",
       "      <td>2</td>\n",
       "      <td>0</td>\n",
       "    </tr>\n",
       "  </tbody>\n",
       "</table>\n",
       "<p>303 rows × 14 columns</p>\n",
       "</div>"
      ],
      "text/plain": [
       "     age  sex  cp  trestbps  chol  fbs  restecg  thalach  exang  oldpeak  \\\n",
       "0     63    1   3       145   233    1        0      150      0      2.3   \n",
       "1     37    1   2       130   250    0        1      187      0      3.5   \n",
       "2     41    0   1       130   204    0        0      172      0      1.4   \n",
       "3     56    1   1       120   236    0        1      178      0      0.8   \n",
       "4     57    0   0       120   354    0        1      163      1      0.6   \n",
       "..   ...  ...  ..       ...   ...  ...      ...      ...    ...      ...   \n",
       "298   57    0   0       140   241    0        1      123      1      0.2   \n",
       "299   45    1   3       110   264    0        1      132      0      1.2   \n",
       "300   68    1   0       144   193    1        1      141      0      3.4   \n",
       "301   57    1   0       130   131    0        1      115      1      1.2   \n",
       "302   57    0   1       130   236    0        0      174      0      0.0   \n",
       "\n",
       "     slope  ca  thal  target  \n",
       "0        0   0     1       1  \n",
       "1        0   0     2       1  \n",
       "2        2   0     2       1  \n",
       "3        2   0     2       1  \n",
       "4        2   0     2       1  \n",
       "..     ...  ..   ...     ...  \n",
       "298      1   0     3       0  \n",
       "299      1   0     3       0  \n",
       "300      1   2     3       0  \n",
       "301      1   1     3       0  \n",
       "302      1   1     2       0  \n",
       "\n",
       "[303 rows x 14 columns]"
      ]
     },
     "execution_count": 48,
     "metadata": {},
     "output_type": "execute_result"
    }
   ],
   "source": [
    "df = pd.read_csv('heart.csv')\n",
    "df"
   ]
  },
  {
   "cell_type": "markdown",
   "metadata": {},
   "source": [
    "## **type of data in each column**"
   ]
  },
  {
   "cell_type": "code",
   "execution_count": null,
   "metadata": {},
   "outputs": [],
   "source": [
    "df.info()"
   ]
  },
  {
   "cell_type": "markdown",
   "metadata": {},
   "source": [
    "## **Check for missing value**\n",
    "    no missing value or extreme value found in the dataset\n"
   ]
  },
  {
   "cell_type": "code",
   "execution_count": null,
   "metadata": {},
   "outputs": [],
   "source": [
    "df.isna().sum()"
   ]
  },
  {
   "cell_type": "markdown",
   "metadata": {},
   "source": [
    "> no missing values in the dataset"
   ]
  },
  {
   "cell_type": "markdown",
   "metadata": {},
   "source": [
    "# **Data Explanatory**\n",
    "- age: The person's age in years\n",
    "- sex: The person's sex (1 = male, 0 = female)\n",
    "- cp: The chest pain experienced (Value 1: typical angina, Value 2: atypical angina, Value 3: non-anginal pain, Value 4: asymptomatic)\n",
    "- trestbps: The person's resting blood pressure (mm Hg on admission to the hospital)\n",
    "- chol: The person's cholesterol measurement in mg/dl\n",
    "- fbs: The person's fasting blood sugar (> 120 mg/dl, 1 = true; 0 = false)\n",
    "- restecg: Resting electrocardiographic measurement (0 = normal, 1 = having ST-T wave abnormality, 2 = showing probable or definite left ventricular hypertrophy by Estes' criteria)\n",
    "- thalach: The person's maximum heart rate achieved\n",
    "- exang: Exercise induced angina (1 = yes; 0 = no)\n",
    "- oldpeak: ST depression induced by exercise relative to rest ('ST' relates to positions on the ECG plot. See more here)\n",
    "- slope: the slope of the peak exercise ST segment (Value 1: upsloping, Value 2: flat, Value 3: downsloping)\n",
    "- ca: The number of major vessels (0-3)\n",
    "- thal: A blood disorder called thalassemia (3 = normal; 6 = fixed defect; 7 = reversable defect)\n",
    "- target: Heart disease (0 = no, 1 = yes)"
   ]
  },
  {
   "cell_type": "markdown",
   "metadata": {},
   "source": [
    "## **Exploratory Data**\n",
    "\n",
    "ทำการทดลองหาความสัมพันธ์ระหว่างตัวแปรต้นต่างๆ กับตัวแปรตาม(target)"
   ]
  },
  {
   "cell_type": "markdown",
   "metadata": {},
   "source": [
    "### Heart Disease Count"
   ]
  },
  {
   "cell_type": "code",
   "execution_count": null,
   "metadata": {},
   "outputs": [],
   "source": [
    "f, ax = plt.subplots(figsize=(8,6))\n",
    "ax = sns.countplot(x = \"target\", data=df)\n",
    "plt.title(\"Heart Disease Count\")\n",
    "plt.show()"
   ]
  },
  {
   "cell_type": "markdown",
   "metadata": {},
   "source": [
    "### Heart Disease Count by Sex"
   ]
  },
  {
   "cell_type": "code",
   "execution_count": null,
   "metadata": {},
   "outputs": [],
   "source": [
    "f, ax = plt.subplots(figsize=(8,6))\n",
    "ax = sns.countplot(x=\"sex\", hue=\"target\", data=df)\n",
    "plt.title(\"Heart Disease Count by Sex\")\n",
    "plt.show()"
   ]
  },
  {
   "cell_type": "markdown",
   "metadata": {},
   "source": [
    "### Heart Disease Frequency for Ages"
   ]
  },
  {
   "cell_type": "code",
   "execution_count": null,
   "metadata": {},
   "outputs": [],
   "source": [
    "pd.crosstab(df.age, df.target).plot(kind=\"bar\", figsize=(20,6))\n",
    "plt.title('Heart Disease Frequency for Ages')\n",
    "plt.xlabel('Age')\n",
    "plt.ylabel('Frequency')\n",
    "plt.show()"
   ]
  },
  {
   "cell_type": "markdown",
   "metadata": {},
   "source": [
    "### Heart Disease Frequency According to Chest Pain Type"
   ]
  },
  {
   "cell_type": "code",
   "execution_count": null,
   "metadata": {},
   "outputs": [],
   "source": [
    "pd.crosstab(df.cp, df.target).plot(kind='bar', figsize=(12,6))\n",
    "plt.title('Heart Disease Frequency According to Checst Pain Type')\n",
    "plt.xlabel('Chest Pain Type')\n",
    "plt.xticks(rotation = 0)\n",
    "plt.ylabel('Frequency of Disease or Not')\n",
    "plt.show()"
   ]
  },
  {
   "cell_type": "markdown",
   "metadata": {},
   "source": [
    "# **Pearson's Similarity (Correlation Matrix)**\n",
    "\n",
    "ใช้ทฤษฎีทาง vector เพื่อหาความสัมพันธ์ระหว่างตัวแปรต้นกับตัวแปรตาม และนำมา plot เป็น Correlation Matrix"
   ]
  },
  {
   "cell_type": "markdown",
   "metadata": {},
   "source": [
    "<img src=\"pearsons.png\">"
   ]
  },
  {
   "cell_type": "code",
   "execution_count": null,
   "metadata": {},
   "outputs": [],
   "source": [
    "fig, ax = plt.subplots(figsize=(15,15))\n",
    "sns.heatmap(df.corr(),\n",
    "            annot=True,\n",
    "            cmap=\"YlGn\",\n",
    "            fmt='.2f',\n",
    "            linewidths=0.5)\n",
    "bottom, top = ax.get_ylim()\n",
    "ax.set_ylim(bottom + 0.5, top - 0.5)"
   ]
  },
  {
   "cell_type": "markdown",
   "metadata": {},
   "source": [
    "# **Data Processing**\n",
    "need to create dummies variables for categorical variables (sex, cp, fbs, etc.)"
   ]
  },
  {
   "cell_type": "code",
   "execution_count": null,
   "metadata": {},
   "outputs": [],
   "source": [
    "ds = pd.get_dummies(df, columns=['sex', 'cp', 'fbs', 'restecg', 'exang', 'slope', 'ca', 'thal'])\n",
    "ds.head()"
   ]
  },
  {
   "cell_type": "code",
   "execution_count": 39,
   "metadata": {},
   "outputs": [
    {
     "name": "stdout",
     "output_type": "stream",
     "text": [
      "Index(['age', 'sex', 'cp', 'trestbps', 'chol', 'fbs', 'restecg', 'thalach',\n",
      "       'exang', 'oldpeak', 'slope', 'ca', 'thal', 'target'],\n",
      "      dtype='object')\n",
      "Index(['age', 'trestbps', 'chol', 'thalach', 'oldpeak', 'target', 'sex_0',\n",
      "       'sex_1', 'cp_0', 'cp_1', 'cp_2', 'cp_3', 'fbs_0', 'fbs_1', 'restecg_0',\n",
      "       'restecg_1', 'restecg_2', 'exang_0', 'exang_1', 'slope_0', 'slope_1',\n",
      "       'slope_2', 'ca_0', 'ca_1', 'ca_2', 'ca_3', 'ca_4', 'thal_0', 'thal_1',\n",
      "       'thal_2', 'thal_3'],\n",
      "      dtype='object')\n"
     ]
    }
   ],
   "source": [
    "print(df.columns)\n",
    "print(ds.columns)"
   ]
  },
  {
   "cell_type": "markdown",
   "metadata": {},
   "source": [
    "#### scale ค่าข้อมูลให้อยู่ค่าใกล้เคียงกัน"
   ]
  },
  {
   "cell_type": "code",
   "execution_count": null,
   "metadata": {},
   "outputs": [],
   "source": [
    "# from sklearn.preprocessing import StandardScaler\n",
    "\n",
    "# s_sc = StandardScaler()\n",
    "# col_to_scale = ['age', 'trestbps', 'chol', 'thalach', 'oldpeak']\n",
    "# ds[col_to_scale] = s_sc.fit_transform(ds[col_to_scale])\n",
    "# ds.head()"
   ]
  },
  {
   "cell_type": "markdown",
   "metadata": {},
   "source": [
    "#### plot กราฟ correlation matrix หลังจากที่ได้ประมวลผลข้อมูลออกมาแล้ว"
   ]
  },
  {
   "cell_type": "code",
   "execution_count": null,
   "metadata": {},
   "outputs": [],
   "source": [
    "fig, ax = plt.subplots(figsize=(15,15))\n",
    "sns.heatmap(ds.corr(),\n",
    "            annot=True,\n",
    "            cmap=\"YlGn\",\n",
    "            fmt='.2f',\n",
    "            linewidths=0.5)\n",
    "bottom, top = ax.get_ylim()\n",
    "ax.set_ylim(bottom + 0.5, top - 0.5)"
   ]
  },
  {
   "cell_type": "markdown",
   "metadata": {},
   "source": [
    "# **Logistic Regression**\n",
    "#### ใช้ Logistic Regression มาสร้าง model เพื่อทำการทำนาย"
   ]
  },
  {
   "cell_type": "markdown",
   "metadata": {},
   "source": [
    "<img src=\"sigmoid.png\">"
   ]
  },
  {
   "cell_type": "markdown",
   "metadata": {},
   "source": [
    "#### ทำการแบ่งชุดข้อมูลเป็นสองชุด โดยจะเป็นชุดทดลอง และชุดทดสอบ และจะมี random_state = 5"
   ]
  },
  {
   "cell_type": "code",
   "execution_count": null,
   "metadata": {},
   "outputs": [],
   "source": [
    "X, y = ds.drop('target', axis=1), ds.target\n",
    "\n",
    "test_size = 0.3\n",
    "X_train, X_test, y_train, y_test = train_test_split(X, y, test_size=test_size, random_state=5)"
   ]
  },
  {
   "cell_type": "markdown",
   "metadata": {},
   "source": [
    "#### ทดลองหาค่า random_state ที่ทำให้ค่า model.score มีค่ามากที่สุดโดยจะให้ลองใช้ค่า random_state ตั้งแต่ 0-99"
   ]
  },
  {
   "cell_type": "code",
   "execution_count": null,
   "metadata": {},
   "outputs": [],
   "source": [
    "X, y = ds.drop('target', axis=1), ds.target\n",
    "\n",
    "test_size = 0.3\n",
    "dff = pd.DataFrame(columns=['train score', 'test score'])\n",
    "for i in range(100):\n",
    "    # print(f\"*** for random state = {i} ***\")\n",
    "    X_train, X_test, y_train, y_test = train_test_split(X, y, test_size=test_size, random_state=i)\n",
    "    model = LogisticRegression(solver='liblinear')\n",
    "    model.fit(X_train, y_train)\n",
    "    # print(f\"model train score : {model.score(X_train, y_train)}\")\n",
    "    # print(f\"model test score : {model.score(X_test, y_test)}\")\n",
    "    dff.loc[i] = [model.score(X_train, y_train)]+ [model.score(X_test, y_test)]"
   ]
  },
  {
   "cell_type": "code",
   "execution_count": null,
   "metadata": {},
   "outputs": [],
   "source": [
    "# pd.set_option('display.max_rows', 500)\n",
    "dff"
   ]
  },
  {
   "cell_type": "markdown",
   "metadata": {},
   "source": [
    "#### สามารถนำไป plot กราฟได้ออกมา\n",
    "<img src=\"random_state_model_score.png\" width=\"600\">ฃ\n",
    "\n",
    "> ซึ่งเป็นเหตุผลที่ทางเราเลือกใช้ random_state = 5"
   ]
  },
  {
   "cell_type": "markdown",
   "metadata": {},
   "source": [
    "#### หาค่าเฉลี่ยของ model.score จากที่ได้ออกมาจาก การทดลองให้ค่า random_state(0-99)"
   ]
  },
  {
   "cell_type": "code",
   "execution_count": 66,
   "metadata": {},
   "outputs": [
    {
     "name": "stdout",
     "output_type": "stream",
     "text": [
      "average of train score : 0.8809433962264147\n",
      "average of testing score : 0.8517582417582412\n"
     ]
    }
   ],
   "source": [
    "print(f'average of train score : ',end='')\n",
    "print(sum(dff['train score'] / 100))\n",
    "print(\"average of testing score : \", end='')\n",
    "print(sum(dff['test score']) / 100)\n"
   ]
  },
  {
   "cell_type": "code",
   "execution_count": null,
   "metadata": {},
   "outputs": [],
   "source": [
    "X_train.head()"
   ]
  },
  {
   "cell_type": "markdown",
   "metadata": {},
   "source": [
    "#### นำข้อมูลชุดทดลองมาใส่โมเดลเพื่อทำการเทรนโมเดลของเรา และดูค่า coefficient ที่ได้ออกมา"
   ]
  },
  {
   "cell_type": "code",
   "execution_count": null,
   "metadata": {},
   "outputs": [],
   "source": [
    "model = LogisticRegression(solver='liblinear')\n",
    "model.fit(X_train, y_train)\n",
    "model.score(X_train, y_train)"
   ]
  },
  {
   "cell_type": "code",
   "execution_count": 67,
   "metadata": {},
   "outputs": [
    {
     "data": {
      "text/html": [
       "<div>\n",
       "<style scoped>\n",
       "    .dataframe tbody tr th:only-of-type {\n",
       "        vertical-align: middle;\n",
       "    }\n",
       "\n",
       "    .dataframe tbody tr th {\n",
       "        vertical-align: top;\n",
       "    }\n",
       "\n",
       "    .dataframe thead th {\n",
       "        text-align: right;\n",
       "    }\n",
       "</style>\n",
       "<table border=\"1\" class=\"dataframe\">\n",
       "  <thead>\n",
       "    <tr style=\"text-align: right;\">\n",
       "      <th></th>\n",
       "      <th>age</th>\n",
       "      <th>trestbps</th>\n",
       "      <th>chol</th>\n",
       "      <th>thalach</th>\n",
       "      <th>oldpeak</th>\n",
       "      <th>sex_0</th>\n",
       "      <th>sex_1</th>\n",
       "      <th>cp_0</th>\n",
       "      <th>cp_1</th>\n",
       "      <th>cp_2</th>\n",
       "      <th>...</th>\n",
       "      <th>slope_2</th>\n",
       "      <th>ca_0</th>\n",
       "      <th>ca_1</th>\n",
       "      <th>ca_2</th>\n",
       "      <th>ca_3</th>\n",
       "      <th>ca_4</th>\n",
       "      <th>thal_0</th>\n",
       "      <th>thal_1</th>\n",
       "      <th>thal_2</th>\n",
       "      <th>thal_3</th>\n",
       "    </tr>\n",
       "  </thead>\n",
       "  <tbody>\n",
       "    <tr>\n",
       "      <th>137</th>\n",
       "      <td>62</td>\n",
       "      <td>128</td>\n",
       "      <td>208</td>\n",
       "      <td>140</td>\n",
       "      <td>0.0</td>\n",
       "      <td>0</td>\n",
       "      <td>1</td>\n",
       "      <td>0</td>\n",
       "      <td>1</td>\n",
       "      <td>0</td>\n",
       "      <td>...</td>\n",
       "      <td>1</td>\n",
       "      <td>1</td>\n",
       "      <td>0</td>\n",
       "      <td>0</td>\n",
       "      <td>0</td>\n",
       "      <td>0</td>\n",
       "      <td>0</td>\n",
       "      <td>0</td>\n",
       "      <td>1</td>\n",
       "      <td>0</td>\n",
       "    </tr>\n",
       "    <tr>\n",
       "      <th>262</th>\n",
       "      <td>53</td>\n",
       "      <td>123</td>\n",
       "      <td>282</td>\n",
       "      <td>95</td>\n",
       "      <td>2.0</td>\n",
       "      <td>0</td>\n",
       "      <td>1</td>\n",
       "      <td>1</td>\n",
       "      <td>0</td>\n",
       "      <td>0</td>\n",
       "      <td>...</td>\n",
       "      <td>0</td>\n",
       "      <td>0</td>\n",
       "      <td>0</td>\n",
       "      <td>1</td>\n",
       "      <td>0</td>\n",
       "      <td>0</td>\n",
       "      <td>0</td>\n",
       "      <td>0</td>\n",
       "      <td>0</td>\n",
       "      <td>1</td>\n",
       "    </tr>\n",
       "    <tr>\n",
       "      <th>43</th>\n",
       "      <td>53</td>\n",
       "      <td>130</td>\n",
       "      <td>264</td>\n",
       "      <td>143</td>\n",
       "      <td>0.4</td>\n",
       "      <td>1</td>\n",
       "      <td>0</td>\n",
       "      <td>1</td>\n",
       "      <td>0</td>\n",
       "      <td>0</td>\n",
       "      <td>...</td>\n",
       "      <td>0</td>\n",
       "      <td>1</td>\n",
       "      <td>0</td>\n",
       "      <td>0</td>\n",
       "      <td>0</td>\n",
       "      <td>0</td>\n",
       "      <td>0</td>\n",
       "      <td>0</td>\n",
       "      <td>1</td>\n",
       "      <td>0</td>\n",
       "    </tr>\n",
       "    <tr>\n",
       "      <th>90</th>\n",
       "      <td>48</td>\n",
       "      <td>124</td>\n",
       "      <td>255</td>\n",
       "      <td>175</td>\n",
       "      <td>0.0</td>\n",
       "      <td>0</td>\n",
       "      <td>1</td>\n",
       "      <td>0</td>\n",
       "      <td>0</td>\n",
       "      <td>1</td>\n",
       "      <td>...</td>\n",
       "      <td>1</td>\n",
       "      <td>0</td>\n",
       "      <td>0</td>\n",
       "      <td>1</td>\n",
       "      <td>0</td>\n",
       "      <td>0</td>\n",
       "      <td>0</td>\n",
       "      <td>0</td>\n",
       "      <td>1</td>\n",
       "      <td>0</td>\n",
       "    </tr>\n",
       "    <tr>\n",
       "      <th>32</th>\n",
       "      <td>44</td>\n",
       "      <td>130</td>\n",
       "      <td>219</td>\n",
       "      <td>188</td>\n",
       "      <td>0.0</td>\n",
       "      <td>0</td>\n",
       "      <td>1</td>\n",
       "      <td>0</td>\n",
       "      <td>1</td>\n",
       "      <td>0</td>\n",
       "      <td>...</td>\n",
       "      <td>1</td>\n",
       "      <td>1</td>\n",
       "      <td>0</td>\n",
       "      <td>0</td>\n",
       "      <td>0</td>\n",
       "      <td>0</td>\n",
       "      <td>0</td>\n",
       "      <td>0</td>\n",
       "      <td>1</td>\n",
       "      <td>0</td>\n",
       "    </tr>\n",
       "    <tr>\n",
       "      <th>...</th>\n",
       "      <td>...</td>\n",
       "      <td>...</td>\n",
       "      <td>...</td>\n",
       "      <td>...</td>\n",
       "      <td>...</td>\n",
       "      <td>...</td>\n",
       "      <td>...</td>\n",
       "      <td>...</td>\n",
       "      <td>...</td>\n",
       "      <td>...</td>\n",
       "      <td>...</td>\n",
       "      <td>...</td>\n",
       "      <td>...</td>\n",
       "      <td>...</td>\n",
       "      <td>...</td>\n",
       "      <td>...</td>\n",
       "      <td>...</td>\n",
       "      <td>...</td>\n",
       "      <td>...</td>\n",
       "      <td>...</td>\n",
       "      <td>...</td>\n",
       "    </tr>\n",
       "    <tr>\n",
       "      <th>110</th>\n",
       "      <td>64</td>\n",
       "      <td>180</td>\n",
       "      <td>325</td>\n",
       "      <td>154</td>\n",
       "      <td>0.0</td>\n",
       "      <td>1</td>\n",
       "      <td>0</td>\n",
       "      <td>1</td>\n",
       "      <td>0</td>\n",
       "      <td>0</td>\n",
       "      <td>...</td>\n",
       "      <td>1</td>\n",
       "      <td>1</td>\n",
       "      <td>0</td>\n",
       "      <td>0</td>\n",
       "      <td>0</td>\n",
       "      <td>0</td>\n",
       "      <td>0</td>\n",
       "      <td>0</td>\n",
       "      <td>1</td>\n",
       "      <td>0</td>\n",
       "    </tr>\n",
       "    <tr>\n",
       "      <th>119</th>\n",
       "      <td>46</td>\n",
       "      <td>138</td>\n",
       "      <td>243</td>\n",
       "      <td>152</td>\n",
       "      <td>0.0</td>\n",
       "      <td>1</td>\n",
       "      <td>0</td>\n",
       "      <td>1</td>\n",
       "      <td>0</td>\n",
       "      <td>0</td>\n",
       "      <td>...</td>\n",
       "      <td>0</td>\n",
       "      <td>1</td>\n",
       "      <td>0</td>\n",
       "      <td>0</td>\n",
       "      <td>0</td>\n",
       "      <td>0</td>\n",
       "      <td>0</td>\n",
       "      <td>0</td>\n",
       "      <td>1</td>\n",
       "      <td>0</td>\n",
       "    </tr>\n",
       "    <tr>\n",
       "      <th>66</th>\n",
       "      <td>51</td>\n",
       "      <td>100</td>\n",
       "      <td>222</td>\n",
       "      <td>143</td>\n",
       "      <td>1.2</td>\n",
       "      <td>0</td>\n",
       "      <td>1</td>\n",
       "      <td>0</td>\n",
       "      <td>0</td>\n",
       "      <td>1</td>\n",
       "      <td>...</td>\n",
       "      <td>0</td>\n",
       "      <td>1</td>\n",
       "      <td>0</td>\n",
       "      <td>0</td>\n",
       "      <td>0</td>\n",
       "      <td>0</td>\n",
       "      <td>0</td>\n",
       "      <td>0</td>\n",
       "      <td>1</td>\n",
       "      <td>0</td>\n",
       "    </tr>\n",
       "    <tr>\n",
       "      <th>276</th>\n",
       "      <td>58</td>\n",
       "      <td>146</td>\n",
       "      <td>218</td>\n",
       "      <td>105</td>\n",
       "      <td>2.0</td>\n",
       "      <td>0</td>\n",
       "      <td>1</td>\n",
       "      <td>1</td>\n",
       "      <td>0</td>\n",
       "      <td>0</td>\n",
       "      <td>...</td>\n",
       "      <td>0</td>\n",
       "      <td>0</td>\n",
       "      <td>1</td>\n",
       "      <td>0</td>\n",
       "      <td>0</td>\n",
       "      <td>0</td>\n",
       "      <td>0</td>\n",
       "      <td>0</td>\n",
       "      <td>0</td>\n",
       "      <td>1</td>\n",
       "    </tr>\n",
       "    <tr>\n",
       "      <th>37</th>\n",
       "      <td>54</td>\n",
       "      <td>150</td>\n",
       "      <td>232</td>\n",
       "      <td>165</td>\n",
       "      <td>1.6</td>\n",
       "      <td>0</td>\n",
       "      <td>1</td>\n",
       "      <td>0</td>\n",
       "      <td>0</td>\n",
       "      <td>1</td>\n",
       "      <td>...</td>\n",
       "      <td>1</td>\n",
       "      <td>1</td>\n",
       "      <td>0</td>\n",
       "      <td>0</td>\n",
       "      <td>0</td>\n",
       "      <td>0</td>\n",
       "      <td>0</td>\n",
       "      <td>0</td>\n",
       "      <td>0</td>\n",
       "      <td>1</td>\n",
       "    </tr>\n",
       "  </tbody>\n",
       "</table>\n",
       "<p>91 rows × 30 columns</p>\n",
       "</div>"
      ],
      "text/plain": [
       "     age  trestbps  chol  thalach  oldpeak  sex_0  sex_1  cp_0  cp_1  cp_2  \\\n",
       "137   62       128   208      140      0.0      0      1     0     1     0   \n",
       "262   53       123   282       95      2.0      0      1     1     0     0   \n",
       "43    53       130   264      143      0.4      1      0     1     0     0   \n",
       "90    48       124   255      175      0.0      0      1     0     0     1   \n",
       "32    44       130   219      188      0.0      0      1     0     1     0   \n",
       "..   ...       ...   ...      ...      ...    ...    ...   ...   ...   ...   \n",
       "110   64       180   325      154      0.0      1      0     1     0     0   \n",
       "119   46       138   243      152      0.0      1      0     1     0     0   \n",
       "66    51       100   222      143      1.2      0      1     0     0     1   \n",
       "276   58       146   218      105      2.0      0      1     1     0     0   \n",
       "37    54       150   232      165      1.6      0      1     0     0     1   \n",
       "\n",
       "     ...  slope_2  ca_0  ca_1  ca_2  ca_3  ca_4  thal_0  thal_1  thal_2  \\\n",
       "137  ...        1     1     0     0     0     0       0       0       1   \n",
       "262  ...        0     0     0     1     0     0       0       0       0   \n",
       "43   ...        0     1     0     0     0     0       0       0       1   \n",
       "90   ...        1     0     0     1     0     0       0       0       1   \n",
       "32   ...        1     1     0     0     0     0       0       0       1   \n",
       "..   ...      ...   ...   ...   ...   ...   ...     ...     ...     ...   \n",
       "110  ...        1     1     0     0     0     0       0       0       1   \n",
       "119  ...        0     1     0     0     0     0       0       0       1   \n",
       "66   ...        0     1     0     0     0     0       0       0       1   \n",
       "276  ...        0     0     1     0     0     0       0       0       0   \n",
       "37   ...        1     1     0     0     0     0       0       0       0   \n",
       "\n",
       "     thal_3  \n",
       "137       0  \n",
       "262       1  \n",
       "43        0  \n",
       "90        0  \n",
       "32        0  \n",
       "..      ...  \n",
       "110       0  \n",
       "119       0  \n",
       "66        0  \n",
       "276       1  \n",
       "37        1  \n",
       "\n",
       "[91 rows x 30 columns]"
      ]
     },
     "execution_count": 67,
     "metadata": {},
     "output_type": "execute_result"
    }
   ],
   "source": [
    "X_test"
   ]
  },
  {
   "cell_type": "markdown",
   "metadata": {},
   "source": [
    "#### นำข้อมูลชุดทดสอบมาใส่ model ที่เทรนแล้วโดยทำการให้ทำนายผลออกมาให้อยู่ในรูปแบบของความน่าจะเป็น \n",
    "#### ซึ่งคอลัมน์แรกหมายถึง ความน่าจะเป็นที่จะไม่เป็นโรคหัวใจ(0) และคอลัมน์ที่สองหมายถึงความน่าจะเป็นที่จะเป็นโรคหัวใจ(1) โดยจะให้ใช้ threshold อยู่ที่ 0.5 ตามค่า Default"
   ]
  },
  {
   "cell_type": "code",
   "execution_count": 64,
   "metadata": {},
   "outputs": [
    {
     "data": {
      "text/plain": [
       "array([[0.08368095, 0.91631905],\n",
       "       [0.99596264, 0.00403736],\n",
       "       [0.38791264, 0.61208736],\n",
       "       [0.14476409, 0.85523591],\n",
       "       [0.07065402, 0.92934598],\n",
       "       [0.13994262, 0.86005738],\n",
       "       [0.07757503, 0.92242497],\n",
       "       [0.30243422, 0.69756578],\n",
       "       [0.97403344, 0.02596656],\n",
       "       [0.23806305, 0.76193695],\n",
       "       [0.9218092 , 0.0781908 ],\n",
       "       [0.0341154 , 0.9658846 ],\n",
       "       [0.96861117, 0.03138883],\n",
       "       [0.15139486, 0.84860514],\n",
       "       [0.0562698 , 0.9437302 ],\n",
       "       [0.13081876, 0.86918124],\n",
       "       [0.00681282, 0.99318718],\n",
       "       [0.14639387, 0.85360613],\n",
       "       [0.87094537, 0.12905463],\n",
       "       [0.81124346, 0.18875654],\n",
       "       [0.53646271, 0.46353729],\n",
       "       [0.0798109 , 0.9201891 ],\n",
       "       [0.68491736, 0.31508264],\n",
       "       [0.14273682, 0.85726318],\n",
       "       [0.98904508, 0.01095492],\n",
       "       [0.98869523, 0.01130477],\n",
       "       [0.0312643 , 0.9687357 ],\n",
       "       [0.0215785 , 0.9784215 ],\n",
       "       [0.18432182, 0.81567818],\n",
       "       [0.72115746, 0.27884254],\n",
       "       [0.97931544, 0.02068456],\n",
       "       [0.90649803, 0.09350197],\n",
       "       [0.01080723, 0.98919277],\n",
       "       [0.97366427, 0.02633573],\n",
       "       [0.0957638 , 0.9042362 ],\n",
       "       [0.53532153, 0.46467847],\n",
       "       [0.9895353 , 0.0104647 ],\n",
       "       [0.49458682, 0.50541318],\n",
       "       [0.0210127 , 0.9789873 ],\n",
       "       [0.06556972, 0.93443028],\n",
       "       [0.64340703, 0.35659297],\n",
       "       [0.28435175, 0.71564825],\n",
       "       [0.02519515, 0.97480485],\n",
       "       [0.98829268, 0.01170732],\n",
       "       [0.03555566, 0.96444434],\n",
       "       [0.49181504, 0.50818496],\n",
       "       [0.10936744, 0.89063256],\n",
       "       [0.58184197, 0.41815803],\n",
       "       [0.66449702, 0.33550298],\n",
       "       [0.99307647, 0.00692353],\n",
       "       [0.3141811 , 0.6858189 ],\n",
       "       [0.14659192, 0.85340808],\n",
       "       [0.32989383, 0.67010617],\n",
       "       [0.98281461, 0.01718539],\n",
       "       [0.38163495, 0.61836505],\n",
       "       [0.13195636, 0.86804364],\n",
       "       [0.91557853, 0.08442147],\n",
       "       [0.34206457, 0.65793543],\n",
       "       [0.92944586, 0.07055414],\n",
       "       [0.72340497, 0.27659503],\n",
       "       [0.25430444, 0.74569556],\n",
       "       [0.07988534, 0.92011466],\n",
       "       [0.01331233, 0.98668767],\n",
       "       [0.10467013, 0.89532987],\n",
       "       [0.39992653, 0.60007347],\n",
       "       [0.00234902, 0.99765098],\n",
       "       [0.69352379, 0.30647621],\n",
       "       [0.38406694, 0.61593306],\n",
       "       [0.0815039 , 0.9184961 ],\n",
       "       [0.94662194, 0.05337806],\n",
       "       [0.22305148, 0.77694852],\n",
       "       [0.00802328, 0.99197672],\n",
       "       [0.08643259, 0.91356741],\n",
       "       [0.62380602, 0.37619398],\n",
       "       [0.21161122, 0.78838878],\n",
       "       [0.24109073, 0.75890927],\n",
       "       [0.98892859, 0.01107141],\n",
       "       [0.02258346, 0.97741654],\n",
       "       [0.03494698, 0.96505302],\n",
       "       [0.99227113, 0.00772887],\n",
       "       [0.06196445, 0.93803555],\n",
       "       [0.01656311, 0.98343689],\n",
       "       [0.28753579, 0.71246421],\n",
       "       [0.09061646, 0.90938354],\n",
       "       [0.21697885, 0.78302115],\n",
       "       [0.01223302, 0.98776698],\n",
       "       [0.42638234, 0.57361766],\n",
       "       [0.51910744, 0.48089256],\n",
       "       [0.10008056, 0.89991944],\n",
       "       [0.9885956 , 0.0114044 ],\n",
       "       [0.36253211, 0.63746789]])"
      ]
     },
     "execution_count": 64,
     "metadata": {},
     "output_type": "execute_result"
    }
   ],
   "source": [
    "pred = model.predict_proba(X_test)\n",
    "pred"
   ]
  },
  {
   "cell_type": "markdown",
   "metadata": {},
   "source": [
    "#### นำค่า target ในความจริงของข้อมูลแต่ละชุดออกมาดู สามารถเปรียบเทียบได้ว่าเหมือนจากด้านบนหรือไม่"
   ]
  },
  {
   "cell_type": "code",
   "execution_count": 65,
   "metadata": {},
   "outputs": [
    {
     "data": {
      "text/plain": [
       "array([1, 0, 1, 1, 1, 1, 1, 1, 0, 1, 0, 1, 0, 1, 1, 1, 1, 1, 0, 0, 1, 1,\n",
       "       1, 1, 0, 0, 1, 1, 0, 0, 0, 1, 1, 0, 1, 0, 0, 0, 0, 1, 0, 1, 1, 0,\n",
       "       1, 1, 1, 1, 1, 0, 1, 1, 1, 0, 1, 1, 0, 1, 0, 0, 1, 1, 1, 1, 1, 1,\n",
       "       0, 0, 1, 0, 0, 1, 1, 0, 1, 0, 0, 1, 1, 0, 1, 1, 1, 1, 1, 1, 1, 1,\n",
       "       1, 0, 1], dtype=int64)"
      ]
     },
     "execution_count": 65,
     "metadata": {},
     "output_type": "execute_result"
    }
   ],
   "source": [
    "y_test.values"
   ]
  },
  {
   "cell_type": "markdown",
   "metadata": {},
   "source": [
    "#### แสดงให้เห็นถึงค่า coefficient ที่ได้มาจากการทำนายค่าจากชุดทดสอบ"
   ]
  },
  {
   "cell_type": "code",
   "execution_count": null,
   "metadata": {},
   "outputs": [],
   "source": [
    "model.score(X_test, y_test)"
   ]
  },
  {
   "cell_type": "markdown",
   "metadata": {},
   "source": [
    "## *Confusion Matrix*\n",
    "สามารถนำทฤษฎี confusion matrix มาใช้อธิบายผลการทำนายที่ได้ออกมาได้"
   ]
  },
  {
   "cell_type": "markdown",
   "metadata": {},
   "source": [
    "<img src=\"confusion.png\"><img src=\"model_score.png\">"
   ]
  },
  {
   "cell_type": "code",
   "execution_count": null,
   "metadata": {},
   "outputs": [],
   "source": [
    "from sklearn import metrics"
   ]
  },
  {
   "cell_type": "code",
   "execution_count": null,
   "metadata": {},
   "outputs": [],
   "source": [
    "# cm = metrics.confusion_matrix(y_test, pred)\n",
    "# cm\n",
    "# print(metrics.classification_report(y_test, pred))\n",
    "\n",
    "# tn, fp, fn, tp = cm.ravel()\n",
    "# print(f'tn : {tn}, fp : {fp}, fn : {fn}, tp : {tp}')\n",
    "# print(f'Accuracy : {(tp+tn)/(tp+tn+fn+fp):.4f}')"
   ]
  },
  {
   "cell_type": "markdown",
   "metadata": {},
   "source": [
    "#### ทำการทดลองปรับค่า Threshold ตั้งแต่ 0.05 - 0.99 โดยห่างช่วงละ 0.05 และดูค่า coefficient ที่ได้ออกมาด้วย"
   ]
  },
  {
   "cell_type": "code",
   "execution_count": 30,
   "metadata": {},
   "outputs": [
    {
     "name": "stdout",
     "output_type": "stream",
     "text": [
      "\n",
      "******** For i = 0.05 ******\n",
      "Our testing accuracy is 0.8021978021978022\n",
      "[[14 18]\n",
      " [ 0 59]]\n",
      "\n",
      "******** For i = 0.1 ******\n",
      "Our testing accuracy is 0.8351648351648352\n",
      "[[18 14]\n",
      " [ 1 58]]\n",
      "\n",
      "******** For i = 0.15 ******\n",
      "Our testing accuracy is 0.8461538461538461\n",
      "[[19 13]\n",
      " [ 1 58]]\n",
      "\n",
      "******** For i = 0.2 ******\n",
      "Our testing accuracy is 0.8571428571428571\n",
      "[[20 12]\n",
      " [ 1 58]]\n",
      "\n",
      "******** For i = 0.25 ******\n",
      "Our testing accuracy is 0.8571428571428571\n",
      "[[20 12]\n",
      " [ 1 58]]\n",
      "\n",
      "******** For i = 0.3 ******\n",
      "Our testing accuracy is 0.8791208791208791\n",
      "[[22 10]\n",
      " [ 1 58]]\n",
      "\n",
      "******** For i = 0.35 ******\n",
      "Our testing accuracy is 0.8681318681318682\n",
      "[[23  9]\n",
      " [ 3 56]]\n",
      "\n",
      "******** For i = 0.4 ******\n",
      "Our testing accuracy is 0.8901098901098901\n",
      "[[25  7]\n",
      " [ 3 56]]\n",
      "\n",
      "******** For i = 0.45 ******\n",
      "Our testing accuracy is 0.8791208791208791\n",
      "[[25  7]\n",
      " [ 4 55]]\n",
      "\n",
      "******** For i = 0.5 ******\n",
      "Our testing accuracy is 0.8681318681318682\n",
      "[[26  6]\n",
      " [ 6 53]]\n",
      "\n",
      "******** For i = 0.55 ******\n",
      "Our testing accuracy is 0.8681318681318682\n",
      "[[27  5]\n",
      " [ 7 52]]\n",
      "\n",
      "******** For i = 0.6 ******\n",
      "Our testing accuracy is 0.8571428571428571\n",
      "[[27  5]\n",
      " [ 8 51]]\n",
      "\n",
      "******** For i = 0.65 ******\n",
      "Our testing accuracy is 0.8241758241758241\n",
      "[[28  4]\n",
      " [12 47]]\n",
      "\n",
      "******** For i = 0.7 ******\n",
      "Our testing accuracy is 0.7802197802197802\n",
      "[[28  4]\n",
      " [16 43]]\n",
      "\n",
      "******** For i = 0.75 ******\n",
      "Our testing accuracy is 0.7472527472527473\n",
      "[[28  4]\n",
      " [19 40]]\n",
      "\n",
      "******** For i = 0.8 ******\n",
      "Our testing accuracy is 0.7362637362637363\n",
      "[[30  2]\n",
      " [22 37]]\n",
      "\n",
      "******** For i = 0.85 ******\n",
      "Our testing accuracy is 0.7362637362637363\n",
      "[[31  1]\n",
      " [23 36]]\n",
      "\n",
      "******** For i = 0.9 ******\n",
      "Our testing accuracy is 0.6263736263736264\n",
      "[[31  1]\n",
      " [33 26]]\n",
      "\n",
      "******** For i = 0.95 ******\n",
      "Our testing accuracy is 0.4945054945054945\n",
      "[[31  1]\n",
      " [45 14]]\n",
      "\n",
      "******** For i = 0.99 ******\n",
      "Our testing accuracy is 0.38461538461538464\n",
      "[[32  0]\n",
      " [56  3]]\n"
     ]
    }
   ],
   "source": [
    "pred_proba_df = pd.DataFrame(model.predict_proba(X_test))\n",
    "threshold_list = [0.05,0.1,0.15,0.2,0.25,0.3,0.35,0.4,0.45,0.5,0.55,0.6,0.65,.7,.75,.8,.85,.9,.95,.99]\n",
    "for i in threshold_list:\n",
    "    print ('\\n******** For i = {} ******'.format(i))\n",
    "    Y_test_pred = pred_proba_df.applymap(lambda x: 1 if x>i else 0)\n",
    "    test_accuracy = metrics.accuracy_score(y_test.to_numpy().reshape(y_test.to_numpy().size,1),\n",
    "                                           Y_test_pred.iloc[:,1].to_numpy().reshape(Y_test_pred.iloc[:,1].to_numpy().size,1))\n",
    "    print('Our testing accuracy is {}'.format(test_accuracy))\n",
    "\n",
    "    print(metrics.confusion_matrix(y_test.to_numpy().reshape(y_test.to_numpy().size,1),\n",
    "                           Y_test_pred.iloc[:,1].to_numpy().reshape(Y_test_pred.iloc[:,1].to_numpy().size,1)))\n",
    "    # print(pred_proba_df)"
   ]
  },
  {
   "cell_type": "markdown",
   "metadata": {},
   "source": [
    "# **Predicting the given data**\n",
    "จากข้อมูลที่เพื่อนๆทดลองใส่ เราสามารถนำมาทำนายและดูผลทำนายได้ดังนี้"
   ]
  },
  {
   "cell_type": "markdown",
   "metadata": {},
   "source": [
    "#### ความหมายของตัวแปรต่างๆ\n",
    "- sex(เพศ) [0=female, 1=male]\n",
    "- cp(ประเภทของการเจ็บหน้าอก) [0=typical, 1=atypical, 2=non anginal, 3=asymtomatic]\n",
    "- fbs(ค่าความเข้มข้นของน้ำตาลในหลอดเลือด) [if >120 mg/dl : 1 else: 0 ]\n",
    "- restecg(ผลการตรวจคลื่นไฟฟ้าหัวใจ) [0=normal, 1=abnormal, 2=more abnormal]\n",
    "- exang(การออกกำลังกายและเกิดหลอดเลือดตีบ) (1=yes, 0=no)\n",
    "- slop(ความชันกราฟ ST ตอนออกำลังกาย) [0=abnormal heart, 1=normal heart, 2=unhealthy heart]\n",
    "- ca(จน.ของหลอดเลือดใหญ่ที่เห็นเลือดไหลผ่าน) [range from 0 to 3]\n",
    "- thal(ผลการตรวจความผิดปกติของเส้นเลือด) [1-3=normal, 6=fixed defect, 7=reversable defect]"
   ]
  },
  {
   "cell_type": "code",
   "execution_count": 68,
   "metadata": {},
   "outputs": [
    {
     "data": {
      "text/html": [
       "<div>\n",
       "<style scoped>\n",
       "    .dataframe tbody tr th:only-of-type {\n",
       "        vertical-align: middle;\n",
       "    }\n",
       "\n",
       "    .dataframe tbody tr th {\n",
       "        vertical-align: top;\n",
       "    }\n",
       "\n",
       "    .dataframe thead th {\n",
       "        text-align: right;\n",
       "    }\n",
       "</style>\n",
       "<table border=\"1\" class=\"dataframe\">\n",
       "  <thead>\n",
       "    <tr style=\"text-align: right;\">\n",
       "      <th></th>\n",
       "      <th>age</th>\n",
       "      <th>trestbps</th>\n",
       "      <th>chol</th>\n",
       "      <th>thalach</th>\n",
       "      <th>oldpeak</th>\n",
       "      <th>sex_0</th>\n",
       "      <th>sex_1</th>\n",
       "      <th>cp_0</th>\n",
       "      <th>cp_1</th>\n",
       "      <th>cp_2</th>\n",
       "      <th>...</th>\n",
       "      <th>slope_2</th>\n",
       "      <th>ca_0</th>\n",
       "      <th>ca_1</th>\n",
       "      <th>ca_2</th>\n",
       "      <th>ca_3</th>\n",
       "      <th>ca_4</th>\n",
       "      <th>thal_0</th>\n",
       "      <th>thal_1</th>\n",
       "      <th>thal_2</th>\n",
       "      <th>thal_3</th>\n",
       "    </tr>\n",
       "  </thead>\n",
       "  <tbody>\n",
       "    <tr>\n",
       "      <th>0</th>\n",
       "      <td>20.0</td>\n",
       "      <td>95.0</td>\n",
       "      <td>270.0</td>\n",
       "      <td>160.0</td>\n",
       "      <td>1.4</td>\n",
       "      <td>1.0</td>\n",
       "      <td>0.0</td>\n",
       "      <td>0.0</td>\n",
       "      <td>1.0</td>\n",
       "      <td>0.0</td>\n",
       "      <td>...</td>\n",
       "      <td>1.0</td>\n",
       "      <td>0.0</td>\n",
       "      <td>0.0</td>\n",
       "      <td>0.0</td>\n",
       "      <td>0.0</td>\n",
       "      <td>1.0</td>\n",
       "      <td>0.0</td>\n",
       "      <td>0.0</td>\n",
       "      <td>0.0</td>\n",
       "      <td>1.0</td>\n",
       "    </tr>\n",
       "  </tbody>\n",
       "</table>\n",
       "<p>1 rows × 30 columns</p>\n",
       "</div>"
      ],
      "text/plain": [
       "    age  trestbps   chol  thalach  oldpeak  sex_0  sex_1  cp_0  cp_1  cp_2  \\\n",
       "0  20.0      95.0  270.0    160.0      1.4    1.0    0.0   0.0   1.0   0.0   \n",
       "\n",
       "   ...  slope_2  ca_0  ca_1  ca_2  ca_3  ca_4  thal_0  thal_1  thal_2  thal_3  \n",
       "0  ...      1.0   0.0   0.0   0.0   0.0   1.0     0.0     0.0     0.0     1.0  \n",
       "\n",
       "[1 rows x 30 columns]"
      ]
     },
     "execution_count": 68,
     "metadata": {},
     "output_type": "execute_result"
    }
   ],
   "source": [
    "               #age  trestbps  chol  thalach   oldpeak   sex(0=female, 1=male)   cp(0-3)   fbs(0-1)   restecg(0-2)    exang(0-1)   slope(0-2)   ca(0-4)       thal(0-3)\n",
    "s1 = pd.Series([20,     95,    270,   160,       1.4,         1,0,               0,1,0,0,    0,1,        0,0,1,         0,1,         0,0,1,     0,0,0,0,1,     0,0,0,1])\n",
    "\n",
    "dataFrame = pd.DataFrame([list(s1)], columns=['age', 'trestbps', 'chol', 'thalach', 'oldpeak', 'sex_0',\n",
    "       'sex_1', 'cp_0', 'cp_1', 'cp_2', 'cp_3', 'fbs_0', 'fbs_1', 'restecg_0',\n",
    "       'restecg_1', 'restecg_2', 'exang_0', 'exang_1', 'slope_0', 'slope_1',\n",
    "       'slope_2', 'ca_0', 'ca_1', 'ca_2', 'ca_3', 'ca_4', 'thal_0', 'thal_1',\n",
    "       'thal_2', 'thal_3'])\n",
    "\n",
    "dataFrame"
   ]
  },
  {
   "cell_type": "markdown",
   "metadata": {},
   "source": [
    "#### สามารถดูผลลัพธ์ที่ได้ออกมาได้ดังนี้"
   ]
  },
  {
   "cell_type": "code",
   "execution_count": 69,
   "metadata": {},
   "outputs": [
    {
     "data": {
      "text/plain": [
       "array([[0.54140592, 0.45859408]])"
      ]
     },
     "execution_count": 69,
     "metadata": {},
     "output_type": "execute_result"
    }
   ],
   "source": [
    "prediction = model.predict_proba(dataFrame)\n",
    "prediction\n"
   ]
  }
 ],
 "metadata": {
  "interpreter": {
   "hash": "d94294f604d264e9ab0937ce37292378957e1daf2ae772bf85d69d666fab832d"
  },
  "kernelspec": {
   "display_name": "Python 3.9.2 64-bit",
   "name": "python3"
  },
  "language_info": {
   "codemirror_mode": {
    "name": "ipython",
    "version": 3
   },
   "file_extension": ".py",
   "mimetype": "text/x-python",
   "name": "python",
   "nbconvert_exporter": "python",
   "pygments_lexer": "ipython3",
   "version": "3.9.2"
  },
  "orig_nbformat": 4
 },
 "nbformat": 4,
 "nbformat_minor": 2
}
